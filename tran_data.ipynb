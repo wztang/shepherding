{
 "cells": [
  {
   "cell_type": "code",
   "execution_count": 38,
   "metadata": {},
   "outputs": [
    {
     "name": "stdout",
     "output_type": "stream",
     "text": [
      "(10, 899, 3)\n",
      "(899, 10, 3)\n"
     ]
    }
   ],
   "source": [
    "from function import data_log_to_matrix\n",
    "swarm = data_log_to_matrix('HelloWorld/results/data/experiment_ae/20/001',10)\n",
    "print(swarm.shape)\n",
    "swarm = np.swapaxes(swarm, 0, 1)\n",
    "print(swarm.shape)"
   ]
  },
  {
   "cell_type": "code",
   "execution_count": 40,
   "metadata": {},
   "outputs": [
    {
     "name": "stdout",
     "output_type": "stream",
     "text": [
      "video end:2024-12-16-20:32:29\n"
     ]
    },
    {
     "data": {
      "image/png": "[encoded data removed]",
      "text/plain": [
       "<Figure size 600x600 with 1 Axes>"
      ]
     },
     "metadata": {},
     "output_type": "display_data"
    }
   ],
   "source": [
    "# video\n",
    "import time,sys,os\n",
    "import numpy as np\n",
    "import matplotlib.pyplot as plt\n",
    "import matplotlib.animation as animation\n",
    "import matplotlib.patches as patches\n",
    "from matplotlib.colors import rgb_to_hsv, hsv_to_rgb\n",
    "import scienceplots\n",
    "\n",
    "parameter = {\n",
    "    \"swarm_N\": 10,\n",
    "    \"agent_l0\": [0.1],\n",
    "    \"agent_v0\": [0.03],\n",
    "    \"agent_r\": [0.0],\n",
    "    \"agent_dr\": [0.0],\n",
    "    \"simulate_repeat\": 1,\n",
    "    \"time_tick\": 0.01,\n",
    "    \"space_x\": 2,\n",
    "    \"space_y\": 2,\n",
    "    \"circle_radius\": 0.9,\n",
    "}\n",
    "snapshots = 89\n",
    "\n",
    "\n",
    "def quiver_updata(tick, ax,boundary,quiver_xy, quiver_u, quiver_v, quiver_color,simulate_tick):\n",
    "    plt.cla()\n",
    "    plt.xlim(-parameter[\"space_x\"]/2 - 2*parameter[\"agent_l0\"][0],parameter[\"space_x\"]/2 + 2*parameter[\"agent_l0\"][0])\n",
    "    plt.ylim(-parameter[\"space_y\"]/2 - 2*parameter[\"agent_l0\"][0],parameter[\"space_y\"]/2 + 2*parameter[\"agent_l0\"][0])\n",
    "    # 绘制运动空间边界\n",
    "    if boundary == \"rough\":\n",
    "        for agent_N in range(parameter[\"swarm_N\"],swarm.shape[1]):\n",
    "            circle = plt.Circle(xy=(swarm[0,agent_N,0],swarm[0,agent_N,1]),radius=parameter[\"boundaryAgent_l0\"]/2,edgecolor='lightgray', linestyle=\"-\", facecolor='lightgray', fill=True)\n",
    "            plt.gcf().gca().add_artist(circle)\n",
    "    elif boundary == \"smooth\":\n",
    "        # 创建圆环\n",
    "        circle_ani = patches.Wedge(center=(0, 0), r=parameter['circle_radius']+parameter['agent_l0'][0], theta1=0, theta2=360, width=parameter['agent_l0'][0],  # 圆环的宽度\n",
    "            edgecolor='lightgray', linestyle=\"-\", facecolor='lightgray')  # 设置为'none'以使圆环内部透明\n",
    "        ax.add_patch(circle_ani)\n",
    "    quiver_ani = plt.quiver(quiver_xy[tick,:,0], quiver_xy[tick,:,1], quiver_u[tick,:]*0.1, quiver_v[tick,:]*0.1,\n",
    "                            quiver_color[tick,:],norm=plt.Normalize(vmin=-np.pi, vmax=np.pi),cmap=\"hsv\",angles='xy', scale_units='xy', scale=1,width=0.005)    \n",
    "    # 绘制标注\n",
    "    if parameter[\"swarm_N\"] == 400:\n",
    "        text_ani = plt.text(0,12,r\"$t = $\"+\"{:.2f}\".format(parameter['time_tick']*simulate_tick[tick]),horizontalalignment=\"center\",fontsize=15)\n",
    "        # plt.text(6.8,10.5,r'$P = {:.3f}$'.format(P),horizontalalignment=\"left\",fontsize=15)\n",
    "        # plt.text(6.8,9.5,r'$M = {:.3f}$'.format(M),horizontalalignment=\"left\",fontsize=15)\n",
    "        # plt.text(7.5,9,r'$Q = {:.3f}$'.format(Q),horizontalalignment=\"left\",fontsize=15)\n",
    "    elif parameter[\"swarm_N\"] == 1600:\n",
    "        text_ani = plt.text(0,24,r\"$t = $\"+\"{:.2f}\".format(parameter['time_tick']*simulate_tick[tick]),horizontalalignment=\"center\",fontsize=15)\n",
    "        # plt.text(13.6,21,r'$P = {:.3f}$'.format(P),horizontalalignment=\"left\",fontsize=15)\n",
    "        # plt.text(13.6,19,r'$M = {:.3f}$'.format(M),horizontalalignment=\"left\",fontsize=15)\n",
    "        # plt.text(7.5,9,r'$Q = {:.3f}$'.format(Q),horizontalalignment=\"left\",fontsize=15)\n",
    "    elif parameter[\"swarm_N\"] == 6400:\n",
    "        text_ani = plt.text(0,48,r\"$t = $\"+\"{:.2f}\".format(parameter['time_tick']*simulate_tick[tick]),horizontalalignment=\"center\",fontsize=15)\n",
    "        # plt.text(27.2,42,r'$P = {:.3f}$'.format(P),horizontalalignment=\"left\",fontsize=15)\n",
    "        # plt.text(27.2,38,r'$M = {:.3f}$'.format(M),horizontalalignment=\"left\",fontsize=15)\n",
    "        # plt.text(7.5,9,r'$Q = {:.3f}$'.format(Q),horizontalalignment=\"left\",fontsize=15)\n",
    "    else:\n",
    "        text_ani = plt.text(0,parameter[\"circle_radius\"],r\"$t = $\"+\"{:.2f}\".format(parameter['time_tick']*simulate_tick[tick]),horizontalalignment=\"center\",fontsize=15)\n",
    "    plot_text(2)\n",
    "\n",
    "def plot_text(scale):\n",
    "    if parameter[\"swarm_N\"] == 400:\n",
    "        y = -8.5\n",
    "        x_min = 8.5\n",
    "        length = 2\n",
    "        plt.hlines(y=y,  xmin = x_min, xmax = x_min+length, colors=\"black\", ls=\"-\", lw=2*scale, label='%d km' % (length))\n",
    "        plt.vlines(x = x_min, ymin = y-0.45, ymax = y+0.45, colors=\"black\", ls=\"-\", lw=2*scale)\n",
    "        plt.vlines(x = x_min+length, ymin = y-0.45, ymax = y+0.45, colors=\"black\", ls=\"-\", lw=2*scale)\n",
    "        plt.text(x_min+length/2,y-0.5,fr\"${length}l_{0}$\",horizontalalignment = 'center',verticalalignment = 'top',fontsize=15*scale)  \n",
    "    elif parameter[\"swarm_N\"] == 1600:\n",
    "        y = -16.5\n",
    "        x_min = 16.5\n",
    "        length = 4\n",
    "        plt.hlines(y=y,  xmin = x_min, xmax = x_min+length, colors=\"black\", ls=\"-\", lw=2*scale, label='%d km' % (length))\n",
    "        plt.vlines(x = x_min, ymin = y-0.9, ymax = y+0.9, colors=\"black\", ls=\"-\", lw=2*scale)\n",
    "        plt.vlines(x = x_min+length, ymin = y-0.9, ymax = y+0.9, colors=\"black\", ls=\"-\", lw=2*scale)\n",
    "        plt.text(x_min+length/2,y-1.0,fr\"${length}l_{0}$\",horizontalalignment = 'center',verticalalignment = 'top',fontsize=15*scale) \n",
    "    elif parameter[\"swarm_N\"] == 6400:\n",
    "        y = -36.5\n",
    "        x_min = 28\n",
    "        length = 8\n",
    "        plt.hlines(y=y,  xmin = x_min, xmax = x_min+length, colors=\"black\", ls=\"-\", lw=2*scale, label='%d km' % (length))\n",
    "        plt.vlines(x = x_min, ymin = y-1.8, ymax = y+1.8, colors=\"black\", ls=\"-\", lw=2*scale)\n",
    "        plt.vlines(x = x_min+length, ymin = y-1.8, ymax = y+1.8, colors=\"black\", ls=\"-\", lw=2*scale)\n",
    "        plt.text(x_min+length/2,y-2,fr\"${length}l_{0}$\",horizontalalignment = 'center',verticalalignment = 'top',fontsize=15*scale)  \n",
    "    # 图片属性\n",
    "    plt.xticks(fontsize=15)\n",
    "    plt.yticks(fontsize=15)\n",
    "    plt.axis('off')\n",
    "    plt.gca().set_aspect('equal', adjustable='box')\n",
    "    # plt.tight_layout()\n",
    "\n",
    "def video_circle_rough_homo_start_end(boundary,parameter,swarm, tick_start, tick_end, tick_interval):   \n",
    "    fig,ax = plt.subplots(figsize=(6,6))\n",
    "    config = {\n",
    "        \"font.family\": 'sans-serif',\n",
    "        \"font.serif\": ['Arial', ],\n",
    "        \"font.size\": 15,\n",
    "    }\n",
    "    plt.rcParams.update(config)\n",
    "\n",
    "    # 绘制活性个体\n",
    "    quiver_xy = swarm[:,:parameter[\"swarm_N\"],0:2]\n",
    "    quiver_u = np.cos(swarm[:,:parameter[\"swarm_N\"],2])\n",
    "    quiver_v = np.sin(swarm[:,:parameter[\"swarm_N\"],2])\n",
    "    # quiver_color = np.zeros(shape=(quiver_u.shape[0],quiver_u.shape[1]))\n",
    "    quiver_color = swarm[:,:parameter[\"swarm_N\"],2]\n",
    "    # 绘制标注\n",
    "    simulate_tick = (np.arange(snapshots) + 1) * tick_interval + tick_start\n",
    "    # 生成保存视频\n",
    "    ani = animation.FuncAnimation(fig=fig,func=quiver_updata,frames=np.arange(0,snapshots),fargs=(ax,boundary,quiver_xy, quiver_u, quiver_v, quiver_color,simulate_tick),interval=100)\n",
    "    ani.save(\"N={}_l0={:.4f}_v0={:.4f}_R={:.4f}_Dr={:.4f}_repeat={}_video_start{}_end{}_interval{}.gif\".format(parameter[\"swarm_N\"],parameter[\"agent_l0\"][0],parameter[\"agent_v0\"][0],parameter[\"agent_r\"][0],parameter[\"agent_dr\"][0],parameter[\"simulate_repeat\"],tick_start,tick_end,tick_interval))\n",
    "    print(\"video end:{}\".format(time.strftime(\"%Y-%m-%d-%H:%M:%S\", time.localtime())))\n",
    "    \n",
    "video_circle_rough_homo_start_end(\"smooth\",parameter,swarm,0,89,1)"
   ]
  },
  {
   "cell_type": "code",
   "execution_count": null,
   "metadata": {},
   "outputs": [],
   "source": []
  }
 ],
 "metadata": {
  "kernelspec": {
   "display_name": "Python 3",
   "language": "python",
   "name": "python3"
  },
  "language_info": {
   "codemirror_mode": {
    "name": "ipython",
    "version": 3
   },
   "file_extension": ".py",
   "mimetype": "text/x-python",
   "name": "python",
   "nbconvert_exporter": "python",
   "pygments_lexer": "ipython3",
   "version": "3.8.10"
  }
 },
 "nbformat": 4,
 "nbformat_minor": 2
}
