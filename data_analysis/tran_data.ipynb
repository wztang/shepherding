{
 "cells": [
  {
   "cell_type": "code",
   "execution_count": null,
   "metadata": {},
   "outputs": [],
   "source": [
    "import os\n",
    "import glob\n",
    "\n",
    "def read_log_files(folder_path):\n",
    "    log_files = glob.glob(os.path.join(folder_path, '*.log'))\n",
    "    logs = []\n",
    "    for log_file in log_files:\n",
    "        with open(log_file, 'r') as file:\n",
    "            logs.append(file.read())\n",
    "    return logs\n",
    "\n",
    "# 示例用法\n",
    "simultion_path = 'HelloWorld/results/data/experiment_ae/20/001'\n",
    "for robot in range(1,2):\n",
    "    folder_path = f\"{simultion_path}/{robot}\"\n",
    "    logs = read_log_files(folder_path)\n",
    "    for log in logs:\n",
    "        print(log)"
   ]
  }
 ],
 "metadata": {
  "kernelspec": {
   "display_name": "Python 3",
   "language": "python",
   "name": "python3"
  },
  "language_info": {
   "codemirror_mode": {
    "name": "ipython",
    "version": 3
   },
   "file_extension": ".py",
   "mimetype": "text/x-python",
   "name": "python",
   "nbconvert_exporter": "python",
   "pygments_lexer": "ipython3",
   "version": "3.8.10"
  }
 },
 "nbformat": 4,
 "nbformat_minor": 2
}
