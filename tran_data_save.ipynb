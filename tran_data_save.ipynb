{
 "cells": [
  {
   "cell_type": "code",
   "execution_count": 38,
   "metadata": {},
   "outputs": [
    {
     "name": "stdout",
     "output_type": "stream",
     "text": [
      "(10, 899, 3)\n",
      "(899, 10, 3)\n"
     ]
    }
   ],
   "source": [
    "from function import data_log_to_matrix\n",
    "swarm = data_log_to_matrix('HelloWorld/results/data/experiment_ae/20/001',10)\n",
    "print(swarm.shape)\n",
    "swarm = np.swapaxes(swarm, 0, 1)\n",
    "print(swarm.shape)"
   ]
  },
  {
   "cell_type": "code",
   "execution_count": null,
   "metadata": {},
   "outputs": [],
   "source": [
    "import numpy as np\n",
    "parameter = {\n",
    "    \"time_end\": 900, \"time_tick\": 0.01, \"time_snapshot\": 1, \"time_polar\": 1, \"time_q\": 2000000,\n",
    "    \"swarm_N\": 10, \"subgroup_flag_start_end\":np.array([0,10]),\n",
    "    \"elastic_alpha\": np.array([0.02]), \"elastic_beta\": np.array([1.2]), \"elastic_k\": np.array([float(sys.argv[3])]),\n",
    "    \"agent_l0\": np.array([float(sys.argv[4])]), \"agent_v0\": np.array([float(sys.argv[5])]), \"agent_r\": np.array([float(sys.argv[6])]), \"agent_dr\": np.array([float(sys.argv[7])]),\n",
    "    \"simulate_repeat\": int(sys.argv[8]),\n",
    "    \"boundaryAgent_l0\":1,\"boundary_surface\":\"smooth\",\"elastic_alpha2\":0,\n",
    "    \"correlation_data_tick_start\":20000000,\"correlation_data_tick\":4000,\"correlation_data_scale\":np.array([10000])\n",
    "    }"
   ]
  }
 ],
 "metadata": {
  "kernelspec": {
   "display_name": "Python 3",
   "language": "python",
   "name": "python3"
  },
  "language_info": {
   "codemirror_mode": {
    "name": "ipython",
    "version": 3
   },
   "file_extension": ".py",
   "mimetype": "text/x-python",
   "name": "python",
   "nbconvert_exporter": "python",
   "pygments_lexer": "ipython3",
   "version": "3.8.10"
  }
 },
 "nbformat": 4,
 "nbformat_minor": 2
}
